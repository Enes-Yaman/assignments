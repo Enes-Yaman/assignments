{
 "cells": [
  {
   "cell_type": "markdown",
   "metadata": {},
   "source": [
    "# Assignment 2"
   ]
  },
  {
   "cell_type": "markdown",
   "metadata": {},
   "source": [
    "### Question 1) \n",
    "Read the \"earthquake.csv\" file as a DataFrame object. \n",
    "Each row represents a report sent from someone’s mobile phone indicating an emergency or some other problem. Each has an associated timestamp as \"incident date\" and a location as \"latitude\" and \"longitude\". Print the first 10 records for these 3 columns."
   ]
  },
  {
   "cell_type": "code",
   "execution_count": 1,
   "metadata": {},
   "outputs": [
    {
     "data": {
      "text/html": [
       "<div>\n",
       "<style scoped>\n",
       "    .dataframe tbody tr th:only-of-type {\n",
       "        vertical-align: middle;\n",
       "    }\n",
       "\n",
       "    .dataframe tbody tr th {\n",
       "        vertical-align: top;\n",
       "    }\n",
       "\n",
       "    .dataframe thead th {\n",
       "        text-align: right;\n",
       "    }\n",
       "</style>\n",
       "<table border=\"1\" class=\"dataframe\">\n",
       "  <thead>\n",
       "    <tr style=\"text-align: right;\">\n",
       "      <th></th>\n",
       "      <th>INCIDENT DATE</th>\n",
       "      <th>LATITUDE</th>\n",
       "      <th>LONGITUDE</th>\n",
       "    </tr>\n",
       "  </thead>\n",
       "  <tbody>\n",
       "    <tr>\n",
       "      <th>0</th>\n",
       "      <td>05/07/2010 17:26</td>\n",
       "      <td>18.233333</td>\n",
       "      <td>-72.533333</td>\n",
       "    </tr>\n",
       "    <tr>\n",
       "      <th>1</th>\n",
       "      <td>28/06/2010 23:06</td>\n",
       "      <td>50.226029</td>\n",
       "      <td>5.729886</td>\n",
       "    </tr>\n",
       "    <tr>\n",
       "      <th>2</th>\n",
       "      <td>24/06/2010 16:21</td>\n",
       "      <td>22.278381</td>\n",
       "      <td>114.174287</td>\n",
       "    </tr>\n",
       "    <tr>\n",
       "      <th>3</th>\n",
       "      <td>20/06/2010 21:59</td>\n",
       "      <td>44.407062</td>\n",
       "      <td>8.933989</td>\n",
       "    </tr>\n",
       "    <tr>\n",
       "      <th>4</th>\n",
       "      <td>18/05/2010 16:26</td>\n",
       "      <td>18.571084</td>\n",
       "      <td>-72.334671</td>\n",
       "    </tr>\n",
       "    <tr>\n",
       "      <th>5</th>\n",
       "      <td>26/04/2010 13:14</td>\n",
       "      <td>18.593707</td>\n",
       "      <td>-72.310079</td>\n",
       "    </tr>\n",
       "    <tr>\n",
       "      <th>6</th>\n",
       "      <td>26/04/2010 14:19</td>\n",
       "      <td>18.482800</td>\n",
       "      <td>-73.638800</td>\n",
       "    </tr>\n",
       "    <tr>\n",
       "      <th>7</th>\n",
       "      <td>26/04/2010 14:27</td>\n",
       "      <td>18.415000</td>\n",
       "      <td>-73.195000</td>\n",
       "    </tr>\n",
       "    <tr>\n",
       "      <th>8</th>\n",
       "      <td>15/03/2010 10:58</td>\n",
       "      <td>18.517443</td>\n",
       "      <td>-72.236841</td>\n",
       "    </tr>\n",
       "    <tr>\n",
       "      <th>9</th>\n",
       "      <td>15/03/2010 11:00</td>\n",
       "      <td>18.547790</td>\n",
       "      <td>-72.410010</td>\n",
       "    </tr>\n",
       "  </tbody>\n",
       "</table>\n",
       "</div>"
      ],
      "text/plain": [
       "      INCIDENT DATE   LATITUDE   LONGITUDE\n",
       "0  05/07/2010 17:26  18.233333  -72.533333\n",
       "1  28/06/2010 23:06  50.226029    5.729886\n",
       "2  24/06/2010 16:21  22.278381  114.174287\n",
       "3  20/06/2010 21:59  44.407062    8.933989\n",
       "4  18/05/2010 16:26  18.571084  -72.334671\n",
       "5  26/04/2010 13:14  18.593707  -72.310079\n",
       "6  26/04/2010 14:19  18.482800  -73.638800\n",
       "7  26/04/2010 14:27  18.415000  -73.195000\n",
       "8  15/03/2010 10:58  18.517443  -72.236841\n",
       "9  15/03/2010 11:00  18.547790  -72.410010"
      ]
     },
     "execution_count": 1,
     "metadata": {},
     "output_type": "execute_result"
    }
   ],
   "source": [
    "import pandas as pd\n",
    "import numpy as np\n",
    "df = pd.read_csv('earthquake.csv')\n",
    "df[[\"INCIDENT DATE\", \"LATITUDE\", \"LONGITUDE\"]].head(10)"
   ]
  },
  {
   "cell_type": "markdown",
   "metadata": {},
   "source": [
    "### Question 2)\n",
    "The CATEGORY field contains a comma-separated list of codes indicating the type of message. Check the rows for missing values in \"CATEGORY\" column. Show which entries in a dataFrame are missing."
   ]
  },
  {
   "cell_type": "code",
   "execution_count": 2,
   "metadata": {
    "scrolled": true
   },
   "outputs": [
    {
     "data": {
      "text/html": [
       "<div>\n",
       "<style scoped>\n",
       "    .dataframe tbody tr th:only-of-type {\n",
       "        vertical-align: middle;\n",
       "    }\n",
       "\n",
       "    .dataframe tbody tr th {\n",
       "        vertical-align: top;\n",
       "    }\n",
       "\n",
       "    .dataframe thead th {\n",
       "        text-align: right;\n",
       "    }\n",
       "</style>\n",
       "<table border=\"1\" class=\"dataframe\">\n",
       "  <thead>\n",
       "    <tr style=\"text-align: right;\">\n",
       "      <th></th>\n",
       "      <th>Serial</th>\n",
       "      <th>INCIDENT TITLE</th>\n",
       "      <th>INCIDENT DATE</th>\n",
       "      <th>LOCATION</th>\n",
       "      <th>DESCRIPTION</th>\n",
       "      <th>CATEGORY</th>\n",
       "      <th>LATITUDE</th>\n",
       "      <th>LONGITUDE</th>\n",
       "      <th>APPROVED</th>\n",
       "      <th>VERIFIED</th>\n",
       "    </tr>\n",
       "  </thead>\n",
       "  <tbody>\n",
       "    <tr>\n",
       "      <th>1198</th>\n",
       "      <td>2777</td>\n",
       "      <td>Food needed in Castro area, near airport 10 De...</td>\n",
       "      <td>24/01/2010 23:31</td>\n",
       "      <td>10 Dessaline Road</td>\n",
       "      <td>hungry  grangou.  We are in the Cit?? Castro a...</td>\n",
       "      <td>NaN</td>\n",
       "      <td>18.567320</td>\n",
       "      <td>-72.293280</td>\n",
       "      <td>YES</td>\n",
       "      <td>NO</td>\n",
       "    </tr>\n",
       "    <tr>\n",
       "      <th>1531</th>\n",
       "      <td>2436</td>\n",
       "      <td>Food Needed in Fontamara 27</td>\n",
       "      <td>22/01/2010 23:04</td>\n",
       "      <td>Fontamara 27 (off Rue National 2) Coordinates ...</td>\n",
       "      <td>NOU NAN FONTAMARA 27 PROLONGE NOU PA WE PES?N\\...</td>\n",
       "      <td>NaN</td>\n",
       "      <td>18.532570</td>\n",
       "      <td>-72.367540</td>\n",
       "      <td>YES</td>\n",
       "      <td>NO</td>\n",
       "    </tr>\n",
       "    <tr>\n",
       "      <th>1828</th>\n",
       "      <td>2130</td>\n",
       "      <td>15 People, 5 Babies, Water and Food Needed at ...</td>\n",
       "      <td>23/01/2010 18:07</td>\n",
       "      <td>Airport Runway Entrance - one end of the runwa...</td>\n",
       "      <td>nou sou wout aewopo a antre pis la nou se 15 f...</td>\n",
       "      <td>NaN</td>\n",
       "      <td>18.580320</td>\n",
       "      <td>-72.312390</td>\n",
       "      <td>YES</td>\n",
       "      <td>NO</td>\n",
       "    </tr>\n",
       "    <tr>\n",
       "      <th>2620</th>\n",
       "      <td>1182</td>\n",
       "      <td>Trapped person</td>\n",
       "      <td>19/01/2010 05:19</td>\n",
       "      <td>Delmas, 33 Rue Derrosier Impas Du Crist, Numbe...</td>\n",
       "      <td>Mwen.se MADAM LAINE FRITZ MWEN RETE DELMAS 33 ...</td>\n",
       "      <td>NaN</td>\n",
       "      <td>18.559451</td>\n",
       "      <td>-72.295522</td>\n",
       "      <td>YES</td>\n",
       "      <td>NO</td>\n",
       "    </tr>\n",
       "    <tr>\n",
       "      <th>2622</th>\n",
       "      <td>1179</td>\n",
       "      <td>500 to 600 people in a temporary shelter with ...</td>\n",
       "      <td>19/01/2010 05:57</td>\n",
       "      <td>Grand Goave, Haiti</td>\n",
       "      <td>Nou anviron 500 a 600 moun nan abri pwoviswa g...</td>\n",
       "      <td>NaN</td>\n",
       "      <td>18.431400</td>\n",
       "      <td>-72.787200</td>\n",
       "      <td>YES</td>\n",
       "      <td>NO</td>\n",
       "    </tr>\n",
       "    <tr>\n",
       "      <th>2623</th>\n",
       "      <td>1178</td>\n",
       "      <td>500 to 600 people in a temporary shelter with ...</td>\n",
       "      <td>19/01/2010 05:57</td>\n",
       "      <td>Grand Goave, Haiti</td>\n",
       "      <td>Nou anviron 500 a 600 moun nan abri pwoviswa g...</td>\n",
       "      <td>NaN</td>\n",
       "      <td>18.424764</td>\n",
       "      <td>-72.770300</td>\n",
       "      <td>YES</td>\n",
       "      <td>NO</td>\n",
       "    </tr>\n",
       "  </tbody>\n",
       "</table>\n",
       "</div>"
      ],
      "text/plain": [
       "      Serial                                     INCIDENT TITLE  \\\n",
       "1198    2777  Food needed in Castro area, near airport 10 De...   \n",
       "1531    2436                        Food Needed in Fontamara 27   \n",
       "1828    2130  15 People, 5 Babies, Water and Food Needed at ...   \n",
       "2620    1182                                     Trapped person   \n",
       "2622    1179  500 to 600 people in a temporary shelter with ...   \n",
       "2623    1178  500 to 600 people in a temporary shelter with ...   \n",
       "\n",
       "         INCIDENT DATE                                           LOCATION  \\\n",
       "1198  24/01/2010 23:31                                  10 Dessaline Road   \n",
       "1531  22/01/2010 23:04  Fontamara 27 (off Rue National 2) Coordinates ...   \n",
       "1828  23/01/2010 18:07  Airport Runway Entrance - one end of the runwa...   \n",
       "2620  19/01/2010 05:19  Delmas, 33 Rue Derrosier Impas Du Crist, Numbe...   \n",
       "2622  19/01/2010 05:57                                 Grand Goave, Haiti   \n",
       "2623  19/01/2010 05:57                                 Grand Goave, Haiti   \n",
       "\n",
       "                                            DESCRIPTION CATEGORY   LATITUDE  \\\n",
       "1198  hungry  grangou.  We are in the Cit?? Castro a...      NaN  18.567320   \n",
       "1531  NOU NAN FONTAMARA 27 PROLONGE NOU PA WE PES?N\\...      NaN  18.532570   \n",
       "1828  nou sou wout aewopo a antre pis la nou se 15 f...      NaN  18.580320   \n",
       "2620  Mwen.se MADAM LAINE FRITZ MWEN RETE DELMAS 33 ...      NaN  18.559451   \n",
       "2622  Nou anviron 500 a 600 moun nan abri pwoviswa g...      NaN  18.431400   \n",
       "2623  Nou anviron 500 a 600 moun nan abri pwoviswa g...      NaN  18.424764   \n",
       "\n",
       "      LONGITUDE APPROVED VERIFIED  \n",
       "1198 -72.293280      YES       NO  \n",
       "1531 -72.367540      YES       NO  \n",
       "1828 -72.312390      YES       NO  \n",
       "2620 -72.295522      YES       NO  \n",
       "2622 -72.787200      YES       NO  \n",
       "2623 -72.770300      YES       NO  "
      ]
     },
     "execution_count": 2,
     "metadata": {},
     "output_type": "execute_result"
    }
   ],
   "source": [
    "df[df['CATEGORY'].isna()]"
   ]
  },
  {
   "cell_type": "markdown",
   "metadata": {},
   "source": [
    "# Question 3) \n",
    "\n",
    "If you notice above in the data summary, some of the categories are missing, so we might want to drop these data points. Additionally, call the describe function to show that there are some aberrant locations.\n",
    "Clean the bad locations by considering conditions below and remove the missing categories. \n",
    "\n",
    "Conditions for location: \n",
    "- Latitude should be range of between 18 and 20\n",
    "- Longitude should be range of between -70 and -75\n",
    "            "
   ]
  },
  {
   "cell_type": "code",
   "execution_count": 3,
   "metadata": {},
   "outputs": [
    {
     "data": {
      "text/html": [
       "<div>\n",
       "<style scoped>\n",
       "    .dataframe tbody tr th:only-of-type {\n",
       "        vertical-align: middle;\n",
       "    }\n",
       "\n",
       "    .dataframe tbody tr th {\n",
       "        vertical-align: top;\n",
       "    }\n",
       "\n",
       "    .dataframe thead th {\n",
       "        text-align: right;\n",
       "    }\n",
       "</style>\n",
       "<table border=\"1\" class=\"dataframe\">\n",
       "  <thead>\n",
       "    <tr style=\"text-align: right;\">\n",
       "      <th></th>\n",
       "      <th>Serial</th>\n",
       "      <th>INCIDENT TITLE</th>\n",
       "      <th>INCIDENT DATE</th>\n",
       "      <th>LOCATION</th>\n",
       "      <th>DESCRIPTION</th>\n",
       "      <th>CATEGORY</th>\n",
       "      <th>LATITUDE</th>\n",
       "      <th>LONGITUDE</th>\n",
       "      <th>APPROVED</th>\n",
       "      <th>VERIFIED</th>\n",
       "    </tr>\n",
       "  </thead>\n",
       "  <tbody>\n",
       "    <tr>\n",
       "      <th>0</th>\n",
       "      <td>4052</td>\n",
       "      <td>* URGENT * Type O blood donations needed in #J...</td>\n",
       "      <td>05/07/2010 17:26</td>\n",
       "      <td>Jacmel, Haiti</td>\n",
       "      <td>Birthing Clinic in Jacmel #Haiti urgently need...</td>\n",
       "      <td>1. Urgences | Emergency, 3. Public Health,</td>\n",
       "      <td>18.233333</td>\n",
       "      <td>-72.533333</td>\n",
       "      <td>YES</td>\n",
       "      <td>NO</td>\n",
       "    </tr>\n",
       "    <tr>\n",
       "      <th>4</th>\n",
       "      <td>4042</td>\n",
       "      <td>Citi Soleil school</td>\n",
       "      <td>18/05/2010 16:26</td>\n",
       "      <td>Citi Soleil, Haiti</td>\n",
       "      <td>We are working with Haitian (NGO) -The Christi...</td>\n",
       "      <td>1. Urgences | Emergency,</td>\n",
       "      <td>18.571084</td>\n",
       "      <td>-72.334671</td>\n",
       "      <td>YES</td>\n",
       "      <td>NO</td>\n",
       "    </tr>\n",
       "    <tr>\n",
       "      <th>5</th>\n",
       "      <td>4041</td>\n",
       "      <td>Radio Commerce in Sarthe</td>\n",
       "      <td>26/04/2010 13:14</td>\n",
       "      <td>Radio Commerce Shelter, Sarthe</td>\n",
       "      <td>i'm Louinel from Sarthe. I'd to know what can ...</td>\n",
       "      <td>5e. Communication lines down,</td>\n",
       "      <td>18.593707</td>\n",
       "      <td>-72.310079</td>\n",
       "      <td>YES</td>\n",
       "      <td>NO</td>\n",
       "    </tr>\n",
       "    <tr>\n",
       "      <th>6</th>\n",
       "      <td>4040</td>\n",
       "      <td>Contaminated water in Baraderes.</td>\n",
       "      <td>26/04/2010 14:19</td>\n",
       "      <td>Marc near Baraderes</td>\n",
       "      <td>How do we treat water in areas without Pipe?\\t...</td>\n",
       "      <td>4. Menaces | Security Threats, 4e. Assainissem...</td>\n",
       "      <td>18.482800</td>\n",
       "      <td>-73.638800</td>\n",
       "      <td>YES</td>\n",
       "      <td>NO</td>\n",
       "    </tr>\n",
       "    <tr>\n",
       "      <th>7</th>\n",
       "      <td>4039</td>\n",
       "      <td>Violence at &amp;quot;arcahaie bas Saint-Ard&amp;quot;</td>\n",
       "      <td>26/04/2010 14:27</td>\n",
       "      <td>unable to find &amp;quot;arcahaie bas Saint-Ard&amp;qu...</td>\n",
       "      <td>Goodnight at (arcahaie bas Saint-Ard) 2 young ...</td>\n",
       "      <td>4. Menaces | Security Threats,</td>\n",
       "      <td>18.415000</td>\n",
       "      <td>-73.195000</td>\n",
       "      <td>YES</td>\n",
       "      <td>NO</td>\n",
       "    </tr>\n",
       "    <tr>\n",
       "      <th>...</th>\n",
       "      <td>...</td>\n",
       "      <td>...</td>\n",
       "      <td>...</td>\n",
       "      <td>...</td>\n",
       "      <td>...</td>\n",
       "      <td>...</td>\n",
       "      <td>...</td>\n",
       "      <td>...</td>\n",
       "      <td>...</td>\n",
       "      <td>...</td>\n",
       "    </tr>\n",
       "    <tr>\n",
       "      <th>3588</th>\n",
       "      <td>8</td>\n",
       "      <td>Canape Vert road destroyed</td>\n",
       "      <td>13/01/2010 02:57</td>\n",
       "      <td>Port-au-Prince</td>\n",
       "      <td>Canape Vert, one of the main roads that leads ...</td>\n",
       "      <td>5c. Route barree | Road blocked,</td>\n",
       "      <td>18.539167</td>\n",
       "      <td>-72.335000</td>\n",
       "      <td>YES</td>\n",
       "      <td>NO</td>\n",
       "    </tr>\n",
       "    <tr>\n",
       "      <th>3589</th>\n",
       "      <td>7</td>\n",
       "      <td>Collapsed Building -- People Trapped</td>\n",
       "      <td>12/01/2010 09:55</td>\n",
       "      <td>Delmas 19, Rue Mackendal #8 Port-au-Prince, Haiti</td>\n",
       "      <td>My mother is part of a medical team that had j...</td>\n",
       "      <td>5a. Structure effondres | Collapsed structure,...</td>\n",
       "      <td>18.539269</td>\n",
       "      <td>-72.336408</td>\n",
       "      <td>YES</td>\n",
       "      <td>NO</td>\n",
       "    </tr>\n",
       "    <tr>\n",
       "      <th>3590</th>\n",
       "      <td>6</td>\n",
       "      <td>Eye-Witness Report from Hotel Oloffson</td>\n",
       "      <td>12/01/2010 11:16</td>\n",
       "      <td>Ave Christophe #60, Port au Prince, Haiti</td>\n",
       "      <td>Tequila Minsky, a New York-based photographer ...</td>\n",
       "      <td>5a. Structure effondres | Collapsed structure,</td>\n",
       "      <td>18.538328</td>\n",
       "      <td>-72.333067</td>\n",
       "      <td>YES</td>\n",
       "      <td>NO</td>\n",
       "    </tr>\n",
       "    <tr>\n",
       "      <th>3591</th>\n",
       "      <td>5</td>\n",
       "      <td>Port-au-Prince air traffic control tower damag...</td>\n",
       "      <td>12/01/2010 04:08</td>\n",
       "      <td>Airport, Port-au-Prince, Haiti</td>\n",
       "      <td>NBC reports Port-au-Prince air traffic control...</td>\n",
       "      <td>5b. Structures a risque | Unstable Structure,</td>\n",
       "      <td>18.579721</td>\n",
       "      <td>-72.292778</td>\n",
       "      <td>YES</td>\n",
       "      <td>NO</td>\n",
       "    </tr>\n",
       "    <tr>\n",
       "      <th>3592</th>\n",
       "      <td>4</td>\n",
       "      <td>National Palace damaged</td>\n",
       "      <td>12/01/2010 10:43</td>\n",
       "      <td>National Palace</td>\n",
       "      <td>National Palace has extensive damage. Presiden...</td>\n",
       "      <td>5a. Structure effondres | Collapsed structure,</td>\n",
       "      <td>18.543376</td>\n",
       "      <td>-72.338883</td>\n",
       "      <td>YES</td>\n",
       "      <td>YES</td>\n",
       "    </tr>\n",
       "  </tbody>\n",
       "</table>\n",
       "<p>3569 rows × 10 columns</p>\n",
       "</div>"
      ],
      "text/plain": [
       "      Serial                                     INCIDENT TITLE  \\\n",
       "0       4052  * URGENT * Type O blood donations needed in #J...   \n",
       "4       4042                                 Citi Soleil school   \n",
       "5       4041                           Radio Commerce in Sarthe   \n",
       "6       4040                   Contaminated water in Baraderes.   \n",
       "7       4039     Violence at &quot;arcahaie bas Saint-Ard&quot;   \n",
       "...      ...                                                ...   \n",
       "3588       8                         Canape Vert road destroyed   \n",
       "3589       7               Collapsed Building -- People Trapped   \n",
       "3590       6             Eye-Witness Report from Hotel Oloffson   \n",
       "3591       5  Port-au-Prince air traffic control tower damag...   \n",
       "3592       4                            National Palace damaged   \n",
       "\n",
       "         INCIDENT DATE                                           LOCATION  \\\n",
       "0     05/07/2010 17:26                                      Jacmel, Haiti   \n",
       "4     18/05/2010 16:26                                 Citi Soleil, Haiti   \n",
       "5     26/04/2010 13:14                     Radio Commerce Shelter, Sarthe   \n",
       "6     26/04/2010 14:19                                Marc near Baraderes   \n",
       "7     26/04/2010 14:27  unable to find &quot;arcahaie bas Saint-Ard&qu...   \n",
       "...                ...                                                ...   \n",
       "3588  13/01/2010 02:57                                     Port-au-Prince   \n",
       "3589  12/01/2010 09:55  Delmas 19, Rue Mackendal #8 Port-au-Prince, Haiti   \n",
       "3590  12/01/2010 11:16          Ave Christophe #60, Port au Prince, Haiti   \n",
       "3591  12/01/2010 04:08                     Airport, Port-au-Prince, Haiti   \n",
       "3592  12/01/2010 10:43                                    National Palace   \n",
       "\n",
       "                                            DESCRIPTION  \\\n",
       "0     Birthing Clinic in Jacmel #Haiti urgently need...   \n",
       "4     We are working with Haitian (NGO) -The Christi...   \n",
       "5     i'm Louinel from Sarthe. I'd to know what can ...   \n",
       "6     How do we treat water in areas without Pipe?\\t...   \n",
       "7     Goodnight at (arcahaie bas Saint-Ard) 2 young ...   \n",
       "...                                                 ...   \n",
       "3588  Canape Vert, one of the main roads that leads ...   \n",
       "3589  My mother is part of a medical team that had j...   \n",
       "3590  Tequila Minsky, a New York-based photographer ...   \n",
       "3591  NBC reports Port-au-Prince air traffic control...   \n",
       "3592  National Palace has extensive damage. Presiden...   \n",
       "\n",
       "                                               CATEGORY   LATITUDE  LONGITUDE  \\\n",
       "0           1. Urgences | Emergency, 3. Public Health,   18.233333 -72.533333   \n",
       "4                             1. Urgences | Emergency,   18.571084 -72.334671   \n",
       "5                        5e. Communication lines down,   18.593707 -72.310079   \n",
       "6     4. Menaces | Security Threats, 4e. Assainissem...  18.482800 -73.638800   \n",
       "7                       4. Menaces | Security Threats,   18.415000 -73.195000   \n",
       "...                                                 ...        ...        ...   \n",
       "3588                  5c. Route barree | Road blocked,   18.539167 -72.335000   \n",
       "3589  5a. Structure effondres | Collapsed structure,...  18.539269 -72.336408   \n",
       "3590    5a. Structure effondres | Collapsed structure,   18.538328 -72.333067   \n",
       "3591     5b. Structures a risque | Unstable Structure,   18.579721 -72.292778   \n",
       "3592    5a. Structure effondres | Collapsed structure,   18.543376 -72.338883   \n",
       "\n",
       "     APPROVED VERIFIED  \n",
       "0         YES       NO  \n",
       "4         YES       NO  \n",
       "5         YES       NO  \n",
       "6         YES       NO  \n",
       "7         YES       NO  \n",
       "...       ...      ...  \n",
       "3588      YES       NO  \n",
       "3589      YES       NO  \n",
       "3590      YES       NO  \n",
       "3591      YES       NO  \n",
       "3592      YES      YES  \n",
       "\n",
       "[3569 rows x 10 columns]"
      ]
     },
     "execution_count": 3,
     "metadata": {},
     "output_type": "execute_result"
    }
   ],
   "source": [
    "dropedNa = df.dropna(subset=['CATEGORY'])\n",
    "filtered = dropedNa[(dropedNa.LATITUDE > 18) & (dropedNa.LATITUDE <20) & (dropedNa.LONGITUDE < -70) & (dropedNa.LONGITUDE >-75)]\n",
    "filtered"
   ]
  },
  {
   "cell_type": "markdown",
   "metadata": {},
   "source": [
    "Now we might want to do some analysis or visualization of this data by category, but each category field may have multiple categories. Additionally, each category is given as a code plus an English and possibly also a French code name. Thus, a little bit of wrangling is required to get the data into a more agreeable form. First, write the functions to get a list of all the categories and to split each category into a code and an English name"
   ]
  },
  {
   "cell_type": "code",
   "execution_count": 4,
   "metadata": {},
   "outputs": [],
   "source": [
    "def get_english(df):\n",
    "    allCats = []\n",
    "    categoryList = list(df['CATEGORY'])\n",
    "    for category in categoryList:\n",
    "        splitted = category.split(\",\")\n",
    "        dropedNa = list(filter(lambda x: \".\" in x, splitted))\n",
    "        frAndEn = list(filter(lambda x: \"|\" in x, dropedNa))\n",
    "        onlyEn = list(filter(lambda x: \"|\" not in x, dropedNa))\n",
    "        for line in onlyEn:\n",
    "            allCats.append(line)\n",
    "        for text in frAndEn:\n",
    "            dot = text.index(\".\")\n",
    "            vBar = text.index(\"|\")\n",
    "            allCats.append(text[:dot+1] + text[vBar+1:])\n",
    "        for i in range( len(allCats)):\n",
    "            if allCats[i][0] == \" \":\n",
    "                allCats[i] = allCats[i][1:]\n",
    "    return allCats"
   ]
  },
  {
   "cell_type": "markdown",
   "metadata": {},
   "source": [
    "You can better understand how to write a function by looking at the result obtained from the **_get english_** function below."
   ]
  },
  {
   "attachments": {
    "get_english.JPG": {
     "image/jpeg": "[encoded data removed]"
    }
   },
   "cell_type": "markdown",
   "metadata": {},
   "source": [
    "![get_english.JPG](attachment:get_english.JPG)"
   ]
  },
  {
   "cell_type": "code",
   "execution_count": 5,
   "metadata": {},
   "outputs": [],
   "source": [
    "allCategories = get_english(filtered)"
   ]
  },
  {
   "cell_type": "markdown",
   "metadata": {},
   "source": [
    "### Question 4)\n",
    "\n",
    "Write a function to make a dict mapping code to name for \"CATEGORY\" column."
   ]
  },
  {
   "cell_type": "code",
   "execution_count": 6,
   "metadata": {},
   "outputs": [],
   "source": [
    "def dictMapping(allCats):\n",
    "    english_mapping = {}\n",
    "    for line in allCats:\n",
    "        lines = line.split(\".\")\n",
    "        english_mapping[lines[0]] = lines[1][1:]\n",
    "    return english_mapping\n"
   ]
  },
  {
   "cell_type": "markdown",
   "metadata": {},
   "source": [
    "You can better understand how to write a function by looking at the result obtained from the **_english_mapping_** below."
   ]
  },
  {
   "attachments": {
    "dict_mapping-2.JPG": {
     "image/jpeg": "[encoded data removed]"
    }
   },
   "cell_type": "markdown",
   "metadata": {},
   "source": [
    "![dict_mapping-2.JPG](attachment:dict_mapping-2.JPG)"
   ]
  },
  {
   "cell_type": "code",
   "execution_count": 7,
   "metadata": {},
   "outputs": [
    {
     "data": {
      "text/plain": [
       "{'3': 'Public Health',\n",
       " '1': 'Emergency',\n",
       " '5e': 'Communication lines down',\n",
       " '4': 'Security Threats',\n",
       " '4e': 'Water sanitation and hygiene promotion',\n",
       " '2': 'Vital Lines',\n",
       " '2f': 'Power Outage',\n",
       " '2d': 'Shelter needed',\n",
       " '2a': 'Food Shortage',\n",
       " '1a': 'Highly vulnerable',\n",
       " '2b': 'Water shortage',\n",
       " '6': 'Natural Hazards',\n",
       " '7': 'Services Available',\n",
       " '8': 'Other',\n",
       " '3b': 'Chronic care needs',\n",
       " '1b': 'Medical Emergency',\n",
       " '7d': 'Hospital/Clinics Operating',\n",
       " '3d': \"OBGYN/Women's Health\",\n",
       " '8f': 'Other',\n",
       " '1d': 'Fire',\n",
       " '8a': 'IDP concentration',\n",
       " '3a': 'Infectious human disease',\n",
       " '8c': 'Price gouging',\n",
       " '4c': 'Group violence',\n",
       " '5': 'Infrastructure Damage',\n",
       " '3e': 'Psychiatric need',\n",
       " '2e': 'Fuel shortage',\n",
       " '5d': 'Compromised bridge',\n",
       " '3c': 'Medical equipment and supply needs',\n",
       " '1c': 'People trapped',\n",
       " '4a': 'Looting',\n",
       " '5a': 'Collapsed structure',\n",
       " '7a': 'Food distribution point',\n",
       " '7c': 'Non-food aid distribution point',\n",
       " '8e': 'Persons News',\n",
       " '6b': 'Missing Persons',\n",
       " '5b': 'Unstable Structure',\n",
       " '2c': 'Contaminated water',\n",
       " '7g': 'Human remains management',\n",
       " '7b': 'Water distribution point',\n",
       " '5c': 'Road blocked',\n",
       " '8d': 'Search and Rescue',\n",
       " '6c': 'Earthquake and aftershocks',\n",
       " '7h': 'Rubble removal',\n",
       " '6a': 'Deaths'}"
      ]
     },
     "execution_count": 7,
     "metadata": {},
     "output_type": "execute_result"
    }
   ],
   "source": [
    "dictMapping(allCategories)"
   ]
  },
  {
   "cell_type": "markdown",
   "metadata": {},
   "source": [
    "### Question 5) \n",
    "Read the \"births.csv\" file as a DataFrame object. Use a pivot table to understand the data. Add a column called \"quinquennial\" to analyze male and female total births every five years."
   ]
  },
  {
   "cell_type": "code",
   "execution_count": 8,
   "metadata": {
    "scrolled": true
   },
   "outputs": [
    {
     "data": {
      "text/html": [
       "<div>\n",
       "<style scoped>\n",
       "    .dataframe tbody tr th:only-of-type {\n",
       "        vertical-align: middle;\n",
       "    }\n",
       "\n",
       "    .dataframe tbody tr th {\n",
       "        vertical-align: top;\n",
       "    }\n",
       "\n",
       "    .dataframe thead th {\n",
       "        text-align: right;\n",
       "    }\n",
       "</style>\n",
       "<table border=\"1\" class=\"dataframe\">\n",
       "  <thead>\n",
       "    <tr style=\"text-align: right;\">\n",
       "      <th>gender</th>\n",
       "      <th>female</th>\n",
       "      <th>male</th>\n",
       "    </tr>\n",
       "    <tr>\n",
       "      <th>quinquennial</th>\n",
       "      <th></th>\n",
       "      <th></th>\n",
       "    </tr>\n",
       "  </thead>\n",
       "  <tbody>\n",
       "    <tr>\n",
       "      <th>1969</th>\n",
       "      <td>8435021</td>\n",
       "      <td>8878893</td>\n",
       "    </tr>\n",
       "    <tr>\n",
       "      <th>1974</th>\n",
       "      <td>7875851</td>\n",
       "      <td>8295271</td>\n",
       "    </tr>\n",
       "    <tr>\n",
       "      <th>1979</th>\n",
       "      <td>8812871</td>\n",
       "      <td>9268698</td>\n",
       "    </tr>\n",
       "    <tr>\n",
       "      <th>1984</th>\n",
       "      <td>9229605</td>\n",
       "      <td>9696731</td>\n",
       "    </tr>\n",
       "    <tr>\n",
       "      <th>1989</th>\n",
       "      <td>9954853</td>\n",
       "      <td>10443050</td>\n",
       "    </tr>\n",
       "    <tr>\n",
       "      <th>1994</th>\n",
       "      <td>9563803</td>\n",
       "      <td>10020529</td>\n",
       "    </tr>\n",
       "    <tr>\n",
       "      <th>1999</th>\n",
       "      <td>9855441</td>\n",
       "      <td>10326846</td>\n",
       "    </tr>\n",
       "    <tr>\n",
       "      <th>2004</th>\n",
       "      <td>10308378</td>\n",
       "      <td>10808537</td>\n",
       "    </tr>\n",
       "  </tbody>\n",
       "</table>\n",
       "</div>"
      ],
      "text/plain": [
       "gender          female      male\n",
       "quinquennial                    \n",
       "1969           8435021   8878893\n",
       "1974           7875851   8295271\n",
       "1979           8812871   9268698\n",
       "1984           9229605   9696731\n",
       "1989           9954853  10443050\n",
       "1994           9563803  10020529\n",
       "1999           9855441  10326846\n",
       "2004          10308378  10808537"
      ]
     },
     "execution_count": 8,
     "metadata": {},
     "output_type": "execute_result"
    }
   ],
   "source": [
    "df = pd.read_csv('births.csv')\n",
    "dfa = df.groupby(['year','gender']).sum().drop(columns=['month', 'day'])\n",
    "table = pd.pivot_table(dfa, values='births', index=['year'],columns=['gender'], aggfunc=np.sum).reset_index()\n",
    "q6data = table\n",
    "data = []\n",
    "for i in range(0,len(dfa.index.values),10):\n",
    "    quinmale = 0\n",
    "    for j in range(5):\n",
    "        quinmale += dfa.loc[dfa.index.values[i+2*j]]['births']\n",
    "    data.append([dfa.index.values[i][0],dfa.index.values[i][1],quinmale])\n",
    "    \n",
    "    quinfemale = 0\n",
    "    k = i+1\n",
    "    for j in range(5):\n",
    "        quinfemale += dfa.loc[dfa.index.values[k+2*j]]['births']\n",
    "    data.append([dfa.index.values[k][0],dfa.index.values[k][1],quinfemale])\n",
    "dfb = pd.DataFrame(data)\n",
    "dfb = dfb.rename(columns={0: \"quinquennial\", 1:\"gender\",2:\"births\"})\n",
    "dfb = dfb.groupby(['quinquennial','gender']).sum()\n",
    "table = pd.pivot_table(dfb, values='births', index=['quinquennial'],columns=['gender'], aggfunc=np.sum)\n",
    "table = table.rename(columns={\"F\": \"female\", \"M\":\"male\"})\n",
    "table"
   ]
  },
  {
   "cell_type": "markdown",
   "metadata": {},
   "source": [
    "### Question 6)\n",
    "Plot the total number of US births by year and gender to see the annual trend in births by gender. Make your own comment for the graph."
   ]
  },
  {
   "cell_type": "code",
   "execution_count": 9,
   "metadata": {},
   "outputs": [
    {
     "data": {
      "text/plain": [
       "Text(0, 0.5, 'Births')"
      ]
     },
     "execution_count": 9,
     "metadata": {},
     "output_type": "execute_result"
    },
    {
     "data": {
      "image/png": "[encoded data removed]",
      "text/plain": [
       "<Figure size 640x480 with 1 Axes>"
      ]
     },
     "metadata": {},
     "output_type": "display_data"
    }
   ],
   "source": [
    "import matplotlib.pyplot as plt\n",
    "q = q6data.set_index(\"year\")\n",
    "a = q.plot()\n",
    "a.set_ylabel(\"Births\")\n",
    "#Male births and female births is change really similar but male births are 5 percent higher than female births"
   ]
  },
  {
   "cell_type": "markdown",
   "metadata": {},
   "source": [
    "### Question 7)\n",
    "Display the mean of birth values for females and males in the same histogram.\n",
    "\n",
    "Note: x-axis: mean values, y-axis: year of birth"
   ]
  },
  {
   "cell_type": "code",
   "execution_count": 10,
   "metadata": {},
   "outputs": [
    {
     "data": {
      "text/plain": [
       "<AxesSubplot:ylabel='year'>"
      ]
     },
     "execution_count": 10,
     "metadata": {},
     "output_type": "execute_result"
    },
    {
     "data": {
      "image/png": "[encoded data removed]",
      "text/plain": [
       "<Figure size 640x480 with 1 Axes>"
      ]
     },
     "metadata": {},
     "output_type": "display_data"
    }
   ],
   "source": [
    "table = pd.pivot_table(dfa, values='births', index=['year'],columns=['gender'], aggfunc=lambda x : x/12).reset_index()\n",
    "table = table.set_index([\"year\"])\n",
    "table.plot(kind=\"barh\")"
   ]
  },
  {
   "cell_type": "markdown",
   "metadata": {},
   "source": [
    "### Question 8)\n",
    "\n",
    "Read the \"tip.csv\" file as a DataFrame object. Add a column presents tip percentage of total bill and generate a KDE (Kernel Density Estimate) plot.\n"
   ]
  },
  {
   "cell_type": "code",
   "execution_count": 11,
   "metadata": {},
   "outputs": [
    {
     "data": {
      "text/plain": [
       "<AxesSubplot:ylabel='Density'>"
      ]
     },
     "execution_count": 11,
     "metadata": {},
     "output_type": "execute_result"
    },
    {
     "data": {
      "image/png": "[encoded data removed]",
      "text/plain": [
       "<Figure size 640x480 with 1 Axes>"
      ]
     },
     "metadata": {},
     "output_type": "display_data"
    }
   ],
   "source": [
    "df = pd.read_csv('tip.csv')\n",
    "df[\"tip_percentage\"] = df[\"tip\"] /  df[\"total_bill\"]\n",
    "df[\"tip_percentage\"].plot(kind=\"kde\")"
   ]
  },
  {
   "cell_type": "markdown",
   "metadata": {},
   "source": [
    "### Question 9)\n",
    "Group the tip data by sex and smoker to present mean and standard deviation scores for tip percentage."
   ]
  },
  {
   "cell_type": "code",
   "execution_count": 12,
   "metadata": {},
   "outputs": [
    {
     "data": {
      "text/html": [
       "<div>\n",
       "<style scoped>\n",
       "    .dataframe tbody tr th:only-of-type {\n",
       "        vertical-align: middle;\n",
       "    }\n",
       "\n",
       "    .dataframe tbody tr th {\n",
       "        vertical-align: top;\n",
       "    }\n",
       "\n",
       "    .dataframe thead th {\n",
       "        text-align: right;\n",
       "    }\n",
       "</style>\n",
       "<table border=\"1\" class=\"dataframe\">\n",
       "  <thead>\n",
       "    <tr style=\"text-align: right;\">\n",
       "      <th></th>\n",
       "      <th></th>\n",
       "      <th>tip_percentage_mean</th>\n",
       "      <th>tip_percentage_std</th>\n",
       "    </tr>\n",
       "    <tr>\n",
       "      <th>sex</th>\n",
       "      <th>smoker</th>\n",
       "      <th></th>\n",
       "      <th></th>\n",
       "    </tr>\n",
       "  </thead>\n",
       "  <tbody>\n",
       "    <tr>\n",
       "      <th rowspan=\"2\" valign=\"top\">Female</th>\n",
       "      <th>No</th>\n",
       "      <td>0.156921</td>\n",
       "      <td>0.036421</td>\n",
       "    </tr>\n",
       "    <tr>\n",
       "      <th>Yes</th>\n",
       "      <td>0.182150</td>\n",
       "      <td>0.071595</td>\n",
       "    </tr>\n",
       "    <tr>\n",
       "      <th rowspan=\"2\" valign=\"top\">Male</th>\n",
       "      <th>No</th>\n",
       "      <td>0.160669</td>\n",
       "      <td>0.041849</td>\n",
       "    </tr>\n",
       "    <tr>\n",
       "      <th>Yes</th>\n",
       "      <td>0.152771</td>\n",
       "      <td>0.090588</td>\n",
       "    </tr>\n",
       "  </tbody>\n",
       "</table>\n",
       "</div>"
      ],
      "text/plain": [
       "               tip_percentage_mean  tip_percentage_std\n",
       "sex    smoker                                         \n",
       "Female No                 0.156921            0.036421\n",
       "       Yes                0.182150            0.071595\n",
       "Male   No                 0.160669            0.041849\n",
       "       Yes                0.152771            0.090588"
      ]
     },
     "execution_count": 12,
     "metadata": {},
     "output_type": "execute_result"
    }
   ],
   "source": [
    "mean = pd.pivot_table(df, values='tip_percentage', index=['sex','smoker']).rename(columns={\"tip_percentage\": \"tip_percentage_mean\"})\n",
    "std = pd.pivot_table(df, values='tip_percentage', index=['sex','smoker'], aggfunc='std').rename(columns={\"tip_percentage\": \"tip_percentage_std\"})\n",
    "table = mean\n",
    "table[\"tip_percentage_std\"] =  std[\"tip_percentage_std\"]\n",
    "table"
   ]
  },
  {
   "cell_type": "markdown",
   "metadata": {},
   "source": [
    "### Question 10)\n",
    "Create a stacked bar plot displaying the frequency of data points for each size on each day"
   ]
  },
  {
   "cell_type": "code",
   "execution_count": 13,
   "metadata": {},
   "outputs": [
    {
     "data": {
      "text/plain": [
       "<AxesSubplot:xlabel='day'>"
      ]
     },
     "execution_count": 13,
     "metadata": {},
     "output_type": "execute_result"
    },
    {
     "data": {
      "image/png": "[encoded data removed]",
      "text/plain": [
       "<Figure size 640x480 with 1 Axes>"
      ]
     },
     "metadata": {},
     "output_type": "display_data"
    }
   ],
   "source": [
    "pv = (df.groupby(\"day\")[\"size\"].value_counts().unstack())\n",
    "pv.plot(kind='bar', stacked=True)\n"
   ]
  },
  {
   "cell_type": "markdown",
   "metadata": {},
   "source": [
    "### Question 11)\n",
    "\n",
    "Create a new stacked bar plot that has normalized values from a graph at Q10 so that each row sums to 1."
   ]
  },
  {
   "cell_type": "code",
   "execution_count": 14,
   "metadata": {},
   "outputs": [
    {
     "data": {
      "text/plain": [
       "<AxesSubplot:xlabel='day'>"
      ]
     },
     "execution_count": 14,
     "metadata": {},
     "output_type": "execute_result"
    },
    {
     "data": {
      "image/png": "[encoded data removed]",
      "text/plain": [
       "<Figure size 640x480 with 1 Axes>"
      ]
     },
     "metadata": {},
     "output_type": "display_data"
    }
   ],
   "source": [
    "pv = (df.groupby(\"day\")[\"size\"].value_counts(normalize=True).unstack())\n",
    "pv.plot(kind='bar', stacked=True)"
   ]
  }
 ],
 "metadata": {
  "kernelspec": {
   "display_name": "Python 3 (ipykernel)",
   "language": "python",
   "name": "python3"
  },
  "language_info": {
   "codemirror_mode": {
    "name": "ipython",
    "version": 3
   },
   "file_extension": ".py",
   "mimetype": "text/x-python",
   "name": "python",
   "nbconvert_exporter": "python",
   "pygments_lexer": "ipython3",
   "version": "3.10.7"
  }
 },
 "nbformat": 4,
 "nbformat_minor": 1
}
